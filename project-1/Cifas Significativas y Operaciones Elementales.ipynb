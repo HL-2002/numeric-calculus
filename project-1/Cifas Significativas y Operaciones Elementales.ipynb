{
 "cells": [
  {
   "cell_type": "markdown",
   "id": "ab9b463a",
   "metadata": {},
   "source": [
    "# CIFRAS SIGNIFICATIVAS"
   ]
  },
  {
   "cell_type": "markdown",
   "metadata": {},
   "source": [
    "Crea un script que permita al usuario realizar operaciones aritméticas básicas (suma, resta, multiplicación, división) entre dos números ingresados, considerando un número determinado de cifras significativas. \n",
    "\n",
    "Realiza estas operaciones con un algoritmo que ajuste los números ingresados a la cantidad de cifras significativas especificada y muestra tanto los resultados obtenidos como los resultados estándar de Python para comparación."
   ]
  },
  {
   "cell_type": "code",
   "execution_count": 6,
   "id": "4152dcd6",
   "metadata": {},
   "outputs": [
    {
     "name": "stdout",
     "output_type": "stream",
     "text": [
      "Ingrese el primer número: 33.33\n",
      "Ingrese el segundo número: 4\n",
      "Ingrese la cantidad de cifras significativas: 2\n",
      "Suma: 37.33\n",
      "Resta: 29.33\n",
      "Multiplicación: 133.32\n",
      "División: 8.33\n",
      "\n",
      "\n",
      "Suma: 37.33\n",
      "Resta: 29.33\n",
      "Multipliación: 133.32\n",
      "División: 8.3325\n"
     ]
    }
   ],
   "source": [
    "def operaciones_basicas():\n",
    "    # Inputs con validación\n",
    "    while True:\n",
    "        try:\n",
    "            num1 = float(input(\"Ingrese el primer número: \"))\n",
    "            num2 = float(input(\"Ingrese el segundo número: \"))\n",
    "            cifras = int(input(\"Ingrese la cantidad de cifras significativas: \"))\n",
    "            break\n",
    "        except ValueError:\n",
    "            print(\"Error: Ingrese un número válido\")\n",
    "\n",
    "    # Resultados con cifras significativas\n",
    "    print(\"\\nResultados con \", cifras, \" cifras significativas:\")\n",
    "    print(\"Suma:\", round(num1 + num2, cifras))\n",
    "    print(\"Resta:\", round(num1 - num2, cifras))\n",
    "    print(\"Multiplicación:\", round(num1 * num2, cifras))\n",
    "    print(\"División:\", round(num1 / num2, cifras))\n",
    "    \n",
    "    # Resultados originales\n",
    "    print(\"\\nResultados originales:\")\n",
    "    print(\"Suma:\", num1 + num2)\n",
    "    print(\"Resta:\", num1 - num2)\n",
    "    print(\"Multipliación:\", num1 * num2)\n",
    "    print(\"División:\", num1 / num2)\n",
    "\n",
    "operaciones_basicas()"
   ]
  }
 ],
 "metadata": {
  "kernelspec": {
   "display_name": "Python 3 (ipykernel)",
   "language": "python",
   "name": "python3"
  },
  "language_info": {
   "codemirror_mode": {
    "name": "ipython",
    "version": 3
   },
   "file_extension": ".py",
   "mimetype": "text/x-python",
   "name": "python",
   "nbconvert_exporter": "python",
   "pygments_lexer": "ipython3",
   "version": "3.11.5"
  }
 },
 "nbformat": 4,
 "nbformat_minor": 5
}
