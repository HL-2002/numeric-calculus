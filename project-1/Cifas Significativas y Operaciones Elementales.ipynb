{
 "cells": [
  {
   "cell_type": "markdown",
   "id": "ab9b463a",
   "metadata": {},
   "source": [
    "# CIFRAS SIGNIFICATIVAS"
   ]
  },
  {
   "cell_type": "code",
   "execution_count": 3,
   "id": "c4118b99",
   "metadata": {},
   "outputs": [],
   "source": [
    "import math"
   ]
  },
  {
   "cell_type": "code",
   "execution_count": 6,
   "id": "4152dcd6",
   "metadata": {},
   "outputs": [
    {
     "name": "stdout",
     "output_type": "stream",
     "text": [
      "Ingrese el primer número: 33.33\n",
      "Ingrese el segundo número: 4\n",
      "Ingrese la cantidad de cifras significativas: 2\n",
      "Suma: 37.33\n",
      "Resta: 29.33\n",
      "Multiplicación: 133.32\n",
      "División: 8.33\n",
      "\n",
      "\n",
      "Suma: 37.33\n",
      "Resta: 29.33\n",
      "Multipliación: 133.32\n",
      "División: 8.3325\n"
     ]
    }
   ],
   "source": [
    "def operaciones_basicas():\n",
    "    # Input de numeros\n",
    "    num1 = float(input(\"Ingrese el primer número: \"))\n",
    "    num2 = float(input(\"Ingrese el segundo número: \"))\n",
    "\n",
    "    # Input de cantidad significativa\n",
    "    cifras = int(input(\"Ingrese la cantidad de cifras significativas: \"))\n",
    "\n",
    "    # Operaciones básicas \n",
    "    suma = round(num1 + num2, cifras)\n",
    "    resta = round(num1 - num2, cifras)\n",
    "    multiplicacion = round(num1 * num2, cifras)\n",
    "    division = round(num1 / num2, cifras)\n",
    "\n",
    "    # Resultados con cifra significativa\n",
    "    print(\"Suma:\", suma)\n",
    "    print(\"Resta:\", resta)\n",
    "    print(\"Multiplicación:\", multiplicacion)\n",
    "    print(\"División:\", division)\n",
    "    print(\"\\n\")\n",
    "    \n",
    "    # Resultados originales\n",
    "    print(\"Suma:\", num1 + num2)\n",
    "    print(\"Resta:\", num1 - num2)\n",
    "    print(\"Multipliación:\", num1 * num2)\n",
    "    print(\"División:\", num1 / num2)\n",
    "\n",
    "operaciones_basicas()"
   ]
  },
  {
   "cell_type": "code",
   "execution_count": null,
   "id": "3a834fa3",
   "metadata": {},
   "outputs": [],
   "source": []
  },
  {
   "cell_type": "code",
   "execution_count": null,
   "id": "0e2abf8a",
   "metadata": {},
   "outputs": [],
   "source": []
  }
 ],
 "metadata": {
  "kernelspec": {
   "display_name": "Python 3 (ipykernel)",
   "language": "python",
   "name": "python3"
  },
  "language_info": {
   "codemirror_mode": {
    "name": "ipython",
    "version": 3
   },
   "file_extension": ".py",
   "mimetype": "text/x-python",
   "name": "python",
   "nbconvert_exporter": "python",
   "pygments_lexer": "ipython3",
   "version": "3.11.5"
  }
 },
 "nbformat": 4,
 "nbformat_minor": 5
}
